{
 "cells": [
  {
   "cell_type": "markdown",
   "metadata": {},
   "source": [
    "## Object Classification using TensorFlow and TFLite"
   ]
  },
  {
   "cell_type": "markdown",
   "metadata": {},
   "source": [
    "## Import Libraries"
   ]
  },
  {
   "cell_type": "code",
   "execution_count": 1,
   "metadata": {},
   "outputs": [],
   "source": [
    "import warnings\n",
    "warnings.filterwarnings(\"ignore\")"
   ]
  },
  {
   "cell_type": "code",
   "execution_count": 2,
   "metadata": {},
   "outputs": [],
   "source": [
    "import tensorflow as tf\n",
    "import numpy as np\n",
    "import retrain\n",
    "import sys\n",
    "from argparse import Namespace\n",
    "import shutil\n",
    "import os\n",
    "import label_image"
   ]
  },
  {
   "cell_type": "markdown",
   "metadata": {},
   "source": [
    "### Training Dataset"
   ]
  },
  {
   "cell_type": "markdown",
   "metadata": {},
   "source": [
    "<img src=\"dataset/dataset_uncc.jpg\" width=\"500\">"
   ]
  },
  {
   "cell_type": "code",
   "execution_count": 3,
   "metadata": {},
   "outputs": [],
   "source": [
    "retrain.FLAGS = Namespace(architecture='mobilenet_0.50_224', bottleneck_dir='training/bottlenecks', \n",
    "                          eval_step_interval=10, final_tensor_name='final_result', flip_left_right=False, \n",
    "                          how_many_training_steps=500, image_dir='dataset/uncc_photos', \n",
    "                          intermediate_output_graphs_dir='/tmp/intermediate_graph/', \n",
    "                          intermediate_store_frequency=0, learning_rate=0.01, \n",
    "                          model_dir='models/', output_graph='retrained/retrained_graph.pb', \n",
    "                          output_labels='retrained/uncc_labels_op.txt', print_misclassified_test_images=False, \n",
    "                          random_brightness=0, random_crop=0, random_scale=0, \n",
    "                          summaries_dir='training/training_summaries/mobilenet_0.50_224', test_batch_size=-1, \n",
    "                          testing_percentage=10, train_batch_size=100, validation_batch_size=100, validation_percentage=10)"
   ]
  },
  {
   "cell_type": "code",
   "execution_count": 4,
   "metadata": {},
   "outputs": [
    {
     "data": {
      "text/plain": [
       "Namespace(architecture='mobilenet_0.50_224', bottleneck_dir='training/bottlenecks', eval_step_interval=10, final_tensor_name='final_result', flip_left_right=False, how_many_training_steps=500, image_dir='dataset/uncc_photos', intermediate_output_graphs_dir='/tmp/intermediate_graph/', intermediate_store_frequency=0, learning_rate=0.01, model_dir='models/', output_graph='retrained/retrained_graph.pb', output_labels='retrained/uncc_labels_op.txt', print_misclassified_test_images=False, random_brightness=0, random_crop=0, random_scale=0, summaries_dir='training/training_summaries/mobilenet_0.50_224', test_batch_size=-1, testing_percentage=10, train_batch_size=100, validation_batch_size=100, validation_percentage=10)"
      ]
     },
     "execution_count": 4,
     "metadata": {},
     "output_type": "execute_result"
    }
   ],
   "source": [
    "retrain.FLAGS"
   ]
  },
  {
   "cell_type": "code",
   "execution_count": 5,
   "metadata": {},
   "outputs": [],
   "source": [
    "if os.path.isdir('training/training_sumaries'):\n",
    "    shutil.rmtree('training/training_sumaries')"
   ]
  },
  {
   "cell_type": "code",
   "execution_count": 6,
   "metadata": {},
   "outputs": [
    {
     "name": "stdout",
     "output_type": "stream",
     "text": [
      "INFO:tensorflow:Looking for images in 'accessible_route'\n",
      "INFO:tensorflow:Looking for images in 'emergency_pole'\n",
      "INFO:tensorflow:Looking for images in 'inside_table'\n",
      "INFO:tensorflow:Looking for images in 'outside_table'\n",
      "INFO:tensorflow:Looking for images in 'trash'\n",
      "INFO:tensorflow:Creating bottleneck at training/bottlenecks\\accessible_route\\IMG_20191105_103153 - Copy.jpg_mobilenet_0.50_224.txt\n",
      "INFO:tensorflow:Creating bottleneck at training/bottlenecks\\accessible_route\\IMG_20191105_103155 - Copy.jpg_mobilenet_0.50_224.txt\n",
      "INFO:tensorflow:Creating bottleneck at training/bottlenecks\\accessible_route\\IMG_20191105_103152 - Copy.jpg_mobilenet_0.50_224.txt\n",
      "INFO:tensorflow:Creating bottleneck at training/bottlenecks\\inside_table\\IMG_20191105_103600 - Copy.jpg_mobilenet_0.50_224.txt\n",
      "INFO:tensorflow:Creating bottleneck at training/bottlenecks\\inside_table\\IMG_20191105_103751 - Copy.jpg_mobilenet_0.50_224.txt\n",
      "INFO:tensorflow:100 bottleneck files created.\n",
      "INFO:tensorflow:Creating bottleneck at training/bottlenecks\\inside_table\\IMG_20191105_103805 - Copy.jpg_mobilenet_0.50_224.txt\n",
      "INFO:tensorflow:Creating bottleneck at training/bottlenecks\\inside_table\\IMG_20191105_103757 - Copy.jpg_mobilenet_0.50_224.txt\n",
      "INFO:tensorflow:Creating bottleneck at training/bottlenecks\\inside_table\\IMG_20191105_103756 - Copy.jpg_mobilenet_0.50_224.txt\n",
      "INFO:tensorflow:Creating bottleneck at training/bottlenecks\\outside_table\\IMG_20191105_103428 - Copy (2).jpg_mobilenet_0.50_224.txt\n",
      "INFO:tensorflow:Creating bottleneck at training/bottlenecks\\outside_table\\IMG_20191105_103428 - Copy.jpg_mobilenet_0.50_224.txt\n",
      "INFO:tensorflow:Creating bottleneck at training/bottlenecks\\trash\\IMG_20191105_102455 - Copy.jpg_mobilenet_0.50_224.txt\n",
      "INFO:tensorflow:Creating bottleneck at training/bottlenecks\\trash\\IMG_20191105_102458 - Copy.jpg_mobilenet_0.50_224.txt\n",
      "INFO:tensorflow:Creating bottleneck at training/bottlenecks\\trash\\IMG_20191105_102518 - Copy.jpg_mobilenet_0.50_224.txt\n",
      "INFO:tensorflow:Creating bottleneck at training/bottlenecks\\trash\\IMG_20191105_102526 - Copy.jpg_mobilenet_0.50_224.txt\n",
      "INFO:tensorflow:Creating bottleneck at training/bottlenecks\\trash\\IMG_20191105_102530 - Copy.jpg_mobilenet_0.50_224.txt\n",
      "INFO:tensorflow:Creating bottleneck at training/bottlenecks\\trash\\IMG_20191105_102747 - Copy.jpg_mobilenet_0.50_224.txt\n",
      "INFO:tensorflow:Creating bottleneck at training/bottlenecks\\trash\\IMG_20191105_102751 - Copy.jpg_mobilenet_0.50_224.txt\n",
      "INFO:tensorflow:Creating bottleneck at training/bottlenecks\\trash\\IMG_20191105_103243 - Copy.jpg_mobilenet_0.50_224.txt\n",
      "INFO:tensorflow:Creating bottleneck at training/bottlenecks\\trash\\IMG_20191105_103245 - Copy.jpg_mobilenet_0.50_224.txt\n",
      "INFO:tensorflow:200 bottleneck files created.\n",
      "INFO:tensorflow:Creating bottleneck at training/bottlenecks\\trash\\IMG_20191105_103346 - Copy.jpg_mobilenet_0.50_224.txt\n",
      "INFO:tensorflow:Creating bottleneck at training/bottlenecks\\trash\\IMG_20191105_102523 - Copy.jpg_mobilenet_0.50_224.txt\n",
      "INFO:tensorflow:Creating bottleneck at training/bottlenecks\\trash\\IMG_20191105_103347 - Copy.jpg_mobilenet_0.50_224.txt\n",
      "INFO:tensorflow:Creating bottleneck at training/bottlenecks\\trash\\IMG_20191105_103344 - Copy.jpg_mobilenet_0.50_224.txt\n",
      "INFO:tensorflow:Creating bottleneck at training/bottlenecks\\trash\\IMG_20191105_103429 - Copy.jpg_mobilenet_0.50_224.txt\n",
      "WARNING:tensorflow:From C:\\Users\\Aditya\\Documents\\workspace\\tensorflow-for-poets-2\\scripts\\retrain.py:789: softmax_cross_entropy_with_logits (from tensorflow.python.ops.nn_ops) is deprecated and will be removed in a future version.\n",
      "Instructions for updating:\n",
      "\n",
      "Future major versions of TensorFlow will allow gradients to flow\n",
      "into the labels input on backprop by default.\n",
      "\n",
      "See tf.nn.softmax_cross_entropy_with_logits_v2.\n",
      "\n",
      "INFO:tensorflow:2019-12-04 18:41:02.849943: Step 0: Train accuracy = 58.0%\n",
      "INFO:tensorflow:2019-12-04 18:41:02.849943: Step 0: Cross entropy = 1.134676\n",
      "INFO:tensorflow:2019-12-04 18:41:03.272614: Step 0: Validation accuracy = 50.0% (N=100)\n",
      "INFO:tensorflow:2019-12-04 18:41:04.279649: Step 10: Train accuracy = 100.0%\n",
      "INFO:tensorflow:2019-12-04 18:41:04.281651: Step 10: Cross entropy = 0.015785\n",
      "INFO:tensorflow:2019-12-04 18:41:04.367471: Step 10: Validation accuracy = 100.0% (N=100)\n",
      "INFO:tensorflow:2019-12-04 18:41:05.317517: Step 20: Train accuracy = 100.0%\n",
      "INFO:tensorflow:2019-12-04 18:41:05.318535: Step 20: Cross entropy = 0.010964\n",
      "INFO:tensorflow:2019-12-04 18:41:05.401672: Step 20: Validation accuracy = 100.0% (N=100)\n",
      "INFO:tensorflow:2019-12-04 18:41:06.302131: Step 30: Train accuracy = 100.0%\n",
      "INFO:tensorflow:2019-12-04 18:41:06.304132: Step 30: Cross entropy = 0.007384\n",
      "INFO:tensorflow:2019-12-04 18:41:06.408206: Step 30: Validation accuracy = 100.0% (N=100)\n",
      "INFO:tensorflow:2019-12-04 18:41:07.330744: Step 40: Train accuracy = 100.0%\n",
      "INFO:tensorflow:2019-12-04 18:41:07.330744: Step 40: Cross entropy = 0.002934\n",
      "INFO:tensorflow:2019-12-04 18:41:07.449695: Step 40: Validation accuracy = 100.0% (N=100)\n",
      "INFO:tensorflow:2019-12-04 18:41:08.279108: Step 50: Train accuracy = 100.0%\n",
      "INFO:tensorflow:2019-12-04 18:41:08.294737: Step 50: Cross entropy = 0.005072\n",
      "INFO:tensorflow:2019-12-04 18:41:08.378708: Step 50: Validation accuracy = 100.0% (N=100)\n",
      "INFO:tensorflow:2019-12-04 18:41:09.151457: Step 60: Train accuracy = 100.0%\n",
      "INFO:tensorflow:2019-12-04 18:41:09.151457: Step 60: Cross entropy = 0.005938\n",
      "INFO:tensorflow:2019-12-04 18:41:09.268320: Step 60: Validation accuracy = 100.0% (N=100)\n",
      "INFO:tensorflow:2019-12-04 18:41:10.034880: Step 70: Train accuracy = 100.0%\n",
      "INFO:tensorflow:2019-12-04 18:41:10.035864: Step 70: Cross entropy = 0.005179\n",
      "INFO:tensorflow:2019-12-04 18:41:10.138939: Step 70: Validation accuracy = 100.0% (N=100)\n",
      "INFO:tensorflow:2019-12-04 18:41:10.886808: Step 80: Train accuracy = 100.0%\n",
      "INFO:tensorflow:2019-12-04 18:41:10.886808: Step 80: Cross entropy = 0.004958\n",
      "INFO:tensorflow:2019-12-04 18:41:10.979734: Step 80: Validation accuracy = 100.0% (N=100)\n",
      "INFO:tensorflow:2019-12-04 18:41:11.777765: Step 90: Train accuracy = 100.0%\n",
      "INFO:tensorflow:2019-12-04 18:41:11.777765: Step 90: Cross entropy = 0.003777\n",
      "INFO:tensorflow:2019-12-04 18:41:11.861603: Step 90: Validation accuracy = 100.0% (N=100)\n",
      "INFO:tensorflow:2019-12-04 18:41:12.667303: Step 100: Train accuracy = 100.0%\n",
      "INFO:tensorflow:2019-12-04 18:41:12.667303: Step 100: Cross entropy = 0.002862\n",
      "INFO:tensorflow:2019-12-04 18:41:12.746493: Step 100: Validation accuracy = 100.0% (N=100)\n",
      "INFO:tensorflow:2019-12-04 18:41:13.541514: Step 110: Train accuracy = 100.0%\n",
      "INFO:tensorflow:2019-12-04 18:41:13.541514: Step 110: Cross entropy = 0.003221\n",
      "INFO:tensorflow:2019-12-04 18:41:13.644619: Step 110: Validation accuracy = 100.0% (N=100)\n",
      "INFO:tensorflow:2019-12-04 18:41:14.411593: Step 120: Train accuracy = 100.0%\n",
      "INFO:tensorflow:2019-12-04 18:41:14.413593: Step 120: Cross entropy = 0.003711\n",
      "INFO:tensorflow:2019-12-04 18:41:14.519670: Step 120: Validation accuracy = 100.0% (N=100)\n",
      "INFO:tensorflow:2019-12-04 18:41:15.280174: Step 130: Train accuracy = 100.0%\n",
      "INFO:tensorflow:2019-12-04 18:41:15.280174: Step 130: Cross entropy = 0.002767\n",
      "INFO:tensorflow:2019-12-04 18:41:15.362446: Step 130: Validation accuracy = 100.0% (N=100)\n",
      "INFO:tensorflow:2019-12-04 18:41:16.150301: Step 140: Train accuracy = 100.0%\n",
      "INFO:tensorflow:2019-12-04 18:41:16.150301: Step 140: Cross entropy = 0.003725\n",
      "INFO:tensorflow:2019-12-04 18:41:16.257571: Step 140: Validation accuracy = 100.0% (N=100)\n",
      "INFO:tensorflow:2019-12-04 18:41:17.041158: Step 150: Train accuracy = 100.0%\n",
      "INFO:tensorflow:2019-12-04 18:41:17.041158: Step 150: Cross entropy = 0.003392\n",
      "INFO:tensorflow:2019-12-04 18:41:17.130742: Step 150: Validation accuracy = 100.0% (N=100)\n",
      "INFO:tensorflow:2019-12-04 18:41:17.932668: Step 160: Train accuracy = 100.0%\n",
      "INFO:tensorflow:2019-12-04 18:41:17.932668: Step 160: Cross entropy = 0.002791\n",
      "INFO:tensorflow:2019-12-04 18:41:18.012297: Step 160: Validation accuracy = 100.0% (N=100)\n",
      "INFO:tensorflow:2019-12-04 18:41:18.806859: Step 170: Train accuracy = 100.0%\n",
      "INFO:tensorflow:2019-12-04 18:41:18.806859: Step 170: Cross entropy = 0.001833\n",
      "INFO:tensorflow:2019-12-04 18:41:18.911441: Step 170: Validation accuracy = 100.0% (N=100)\n",
      "INFO:tensorflow:2019-12-04 18:41:19.675213: Step 180: Train accuracy = 100.0%\n"
     ]
    },
    {
     "name": "stdout",
     "output_type": "stream",
     "text": [
      "INFO:tensorflow:2019-12-04 18:41:19.676215: Step 180: Cross entropy = 0.002025\n",
      "INFO:tensorflow:2019-12-04 18:41:19.785292: Step 180: Validation accuracy = 100.0% (N=100)\n",
      "INFO:tensorflow:2019-12-04 18:41:20.557463: Step 190: Train accuracy = 100.0%\n",
      "INFO:tensorflow:2019-12-04 18:41:20.557463: Step 190: Cross entropy = 0.001834\n",
      "INFO:tensorflow:2019-12-04 18:41:20.645830: Step 190: Validation accuracy = 100.0% (N=100)\n",
      "INFO:tensorflow:2019-12-04 18:41:21.422912: Step 200: Train accuracy = 100.0%\n",
      "INFO:tensorflow:2019-12-04 18:41:21.423896: Step 200: Cross entropy = 0.001736\n",
      "INFO:tensorflow:2019-12-04 18:41:21.507954: Step 200: Validation accuracy = 100.0% (N=100)\n",
      "INFO:tensorflow:2019-12-04 18:41:22.496334: Step 210: Train accuracy = 100.0%\n",
      "INFO:tensorflow:2019-12-04 18:41:22.496334: Step 210: Cross entropy = 0.001857\n",
      "INFO:tensorflow:2019-12-04 18:41:22.588730: Step 210: Validation accuracy = 100.0% (N=100)\n",
      "INFO:tensorflow:2019-12-04 18:41:23.630672: Step 220: Train accuracy = 100.0%\n",
      "INFO:tensorflow:2019-12-04 18:41:23.631673: Step 220: Cross entropy = 0.001534\n",
      "INFO:tensorflow:2019-12-04 18:41:23.748757: Step 220: Validation accuracy = 100.0% (N=100)\n",
      "INFO:tensorflow:2019-12-04 18:41:24.864560: Step 230: Train accuracy = 100.0%\n",
      "INFO:tensorflow:2019-12-04 18:41:24.864560: Step 230: Cross entropy = 0.001579\n",
      "INFO:tensorflow:2019-12-04 18:41:24.967634: Step 230: Validation accuracy = 100.0% (N=100)\n",
      "INFO:tensorflow:2019-12-04 18:41:25.906036: Step 240: Train accuracy = 100.0%\n",
      "INFO:tensorflow:2019-12-04 18:41:25.907020: Step 240: Cross entropy = 0.001783\n",
      "INFO:tensorflow:2019-12-04 18:41:26.009088: Step 240: Validation accuracy = 100.0% (N=100)\n",
      "INFO:tensorflow:2019-12-04 18:41:26.877004: Step 250: Train accuracy = 100.0%\n",
      "INFO:tensorflow:2019-12-04 18:41:26.877004: Step 250: Cross entropy = 0.001763\n",
      "INFO:tensorflow:2019-12-04 18:41:26.978300: Step 250: Validation accuracy = 100.0% (N=100)\n",
      "INFO:tensorflow:2019-12-04 18:41:27.838925: Step 260: Train accuracy = 100.0%\n",
      "INFO:tensorflow:2019-12-04 18:41:27.839944: Step 260: Cross entropy = 0.002005\n",
      "INFO:tensorflow:2019-12-04 18:41:27.913029: Step 260: Validation accuracy = 100.0% (N=100)\n",
      "INFO:tensorflow:2019-12-04 18:41:28.713576: Step 270: Train accuracy = 100.0%\n",
      "INFO:tensorflow:2019-12-04 18:41:28.713576: Step 270: Cross entropy = 0.001765\n",
      "INFO:tensorflow:2019-12-04 18:41:28.796084: Step 270: Validation accuracy = 100.0% (N=100)\n",
      "INFO:tensorflow:2019-12-04 18:41:29.583394: Step 280: Train accuracy = 100.0%\n",
      "INFO:tensorflow:2019-12-04 18:41:29.583394: Step 280: Cross entropy = 0.001448\n",
      "INFO:tensorflow:2019-12-04 18:41:29.678262: Step 280: Validation accuracy = 100.0% (N=100)\n",
      "INFO:tensorflow:2019-12-04 18:41:30.421424: Step 290: Train accuracy = 100.0%\n",
      "INFO:tensorflow:2019-12-04 18:41:30.421424: Step 290: Cross entropy = 0.001701\n",
      "INFO:tensorflow:2019-12-04 18:41:30.528476: Step 290: Validation accuracy = 100.0% (N=100)\n",
      "INFO:tensorflow:2019-12-04 18:41:31.311576: Step 300: Train accuracy = 100.0%\n",
      "INFO:tensorflow:2019-12-04 18:41:31.311576: Step 300: Cross entropy = 0.001783\n",
      "INFO:tensorflow:2019-12-04 18:41:31.410775: Step 300: Validation accuracy = 100.0% (N=100)\n",
      "INFO:tensorflow:2019-12-04 18:41:32.182519: Step 310: Train accuracy = 100.0%\n",
      "INFO:tensorflow:2019-12-04 18:41:32.182519: Step 310: Cross entropy = 0.001104\n",
      "INFO:tensorflow:2019-12-04 18:41:32.289577: Step 310: Validation accuracy = 100.0% (N=100)\n",
      "INFO:tensorflow:2019-12-04 18:41:33.057513: Step 320: Train accuracy = 100.0%\n",
      "INFO:tensorflow:2019-12-04 18:41:33.073120: Step 320: Cross entropy = 0.001486\n",
      "INFO:tensorflow:2019-12-04 18:41:33.145950: Step 320: Validation accuracy = 100.0% (N=100)\n",
      "INFO:tensorflow:2019-12-04 18:41:33.932445: Step 330: Train accuracy = 100.0%\n",
      "INFO:tensorflow:2019-12-04 18:41:33.932445: Step 330: Cross entropy = 0.001522\n",
      "INFO:tensorflow:2019-12-04 18:41:34.012569: Step 330: Validation accuracy = 100.0% (N=100)\n",
      "INFO:tensorflow:2019-12-04 18:41:34.760826: Step 340: Train accuracy = 100.0%\n",
      "INFO:tensorflow:2019-12-04 18:41:34.760826: Step 340: Cross entropy = 0.001360\n",
      "INFO:tensorflow:2019-12-04 18:41:34.861316: Step 340: Validation accuracy = 100.0% (N=100)\n",
      "INFO:tensorflow:2019-12-04 18:41:35.658021: Step 350: Train accuracy = 100.0%\n",
      "INFO:tensorflow:2019-12-04 18:41:35.658021: Step 350: Cross entropy = 0.002104\n",
      "INFO:tensorflow:2019-12-04 18:41:35.729222: Step 350: Validation accuracy = 100.0% (N=100)\n",
      "INFO:tensorflow:2019-12-04 18:41:36.525871: Step 360: Train accuracy = 100.0%\n",
      "INFO:tensorflow:2019-12-04 18:41:36.525871: Step 360: Cross entropy = 0.001478\n",
      "INFO:tensorflow:2019-12-04 18:41:36.612267: Step 360: Validation accuracy = 100.0% (N=100)\n",
      "INFO:tensorflow:2019-12-04 18:41:37.405635: Step 370: Train accuracy = 100.0%\n",
      "INFO:tensorflow:2019-12-04 18:41:37.405635: Step 370: Cross entropy = 0.000885\n",
      "INFO:tensorflow:2019-12-04 18:41:37.496437: Step 370: Validation accuracy = 100.0% (N=100)\n",
      "INFO:tensorflow:2019-12-04 18:41:38.279556: Step 380: Train accuracy = 100.0%\n",
      "INFO:tensorflow:2019-12-04 18:41:38.279556: Step 380: Cross entropy = 0.001049\n",
      "INFO:tensorflow:2019-12-04 18:41:38.363077: Step 380: Validation accuracy = 100.0% (N=100)\n",
      "INFO:tensorflow:2019-12-04 18:41:39.103525: Step 390: Train accuracy = 100.0%\n",
      "INFO:tensorflow:2019-12-04 18:41:39.103525: Step 390: Cross entropy = 0.001636\n",
      "INFO:tensorflow:2019-12-04 18:41:39.212531: Step 390: Validation accuracy = 100.0% (N=100)\n",
      "INFO:tensorflow:2019-12-04 18:41:40.005983: Step 400: Train accuracy = 100.0%\n",
      "INFO:tensorflow:2019-12-04 18:41:40.006985: Step 400: Cross entropy = 0.001244\n",
      "INFO:tensorflow:2019-12-04 18:41:40.095063: Step 400: Validation accuracy = 100.0% (N=100)\n",
      "INFO:tensorflow:2019-12-04 18:41:40.870630: Step 410: Train accuracy = 100.0%\n",
      "INFO:tensorflow:2019-12-04 18:41:40.870630: Step 410: Cross entropy = 0.001399\n",
      "INFO:tensorflow:2019-12-04 18:41:40.961694: Step 410: Validation accuracy = 100.0% (N=100)\n",
      "INFO:tensorflow:2019-12-04 18:41:41.760298: Step 420: Train accuracy = 100.0%\n",
      "INFO:tensorflow:2019-12-04 18:41:41.760298: Step 420: Cross entropy = 0.001094\n",
      "INFO:tensorflow:2019-12-04 18:41:41.846111: Step 420: Validation accuracy = 100.0% (N=100)\n",
      "INFO:tensorflow:2019-12-04 18:41:42.635328: Step 430: Train accuracy = 100.0%\n",
      "INFO:tensorflow:2019-12-04 18:41:42.635328: Step 430: Cross entropy = 0.001446\n",
      "INFO:tensorflow:2019-12-04 18:41:42.721131: Step 430: Validation accuracy = 100.0% (N=100)\n",
      "INFO:tensorflow:2019-12-04 18:41:43.502230: Step 440: Train accuracy = 100.0%\n",
      "INFO:tensorflow:2019-12-04 18:41:43.503236: Step 440: Cross entropy = 0.001446\n",
      "INFO:tensorflow:2019-12-04 18:41:43.596342: Step 440: Validation accuracy = 100.0% (N=100)\n",
      "INFO:tensorflow:2019-12-04 18:41:44.355899: Step 450: Train accuracy = 100.0%\n",
      "INFO:tensorflow:2019-12-04 18:41:44.356901: Step 450: Cross entropy = 0.001295\n",
      "INFO:tensorflow:2019-12-04 18:41:44.447962: Step 450: Validation accuracy = 100.0% (N=100)\n",
      "INFO:tensorflow:2019-12-04 18:41:45.256934: Step 460: Train accuracy = 100.0%\n",
      "INFO:tensorflow:2019-12-04 18:41:45.257951: Step 460: Cross entropy = 0.000889\n",
      "INFO:tensorflow:2019-12-04 18:41:45.344669: Step 460: Validation accuracy = 100.0% (N=100)\n",
      "INFO:tensorflow:2019-12-04 18:41:46.120693: Step 470: Train accuracy = 100.0%\n",
      "INFO:tensorflow:2019-12-04 18:41:46.120693: Step 470: Cross entropy = 0.001672\n",
      "INFO:tensorflow:2019-12-04 18:41:46.206076: Step 470: Validation accuracy = 100.0% (N=100)\n",
      "INFO:tensorflow:2019-12-04 18:41:46.998495: Step 480: Train accuracy = 100.0%\n",
      "INFO:tensorflow:2019-12-04 18:41:46.998495: Step 480: Cross entropy = 0.001023\n",
      "INFO:tensorflow:2019-12-04 18:41:47.090370: Step 480: Validation accuracy = 100.0% (N=100)\n",
      "INFO:tensorflow:2019-12-04 18:41:47.870401: Step 490: Train accuracy = 100.0%\n",
      "INFO:tensorflow:2019-12-04 18:41:47.870401: Step 490: Cross entropy = 0.001069\n",
      "INFO:tensorflow:2019-12-04 18:41:47.962143: Step 490: Validation accuracy = 100.0% (N=100)\n",
      "INFO:tensorflow:2019-12-04 18:41:48.651468: Step 499: Train accuracy = 100.0%\n",
      "INFO:tensorflow:2019-12-04 18:41:48.651468: Step 499: Cross entropy = 0.001150\n",
      "INFO:tensorflow:2019-12-04 18:41:48.740953: Step 499: Validation accuracy = 100.0% (N=100)\n",
      "INFO:tensorflow:Final test accuracy = 100.0% (N=14)\n",
      "INFO:tensorflow:Froze 2 variables.\n"
     ]
    },
    {
     "name": "stdout",
     "output_type": "stream",
     "text": [
      "Converted 2 variables to const ops.\n"
     ]
    },
    {
     "ename": "SystemExit",
     "evalue": "",
     "output_type": "error",
     "traceback": [
      "An exception has occurred, use %tb to see the full traceback.\n",
      "\u001b[1;31mSystemExit\u001b[0m\n"
     ]
    }
   ],
   "source": [
    "tf.app.run(main=retrain.main, argv=[sys.argv[0]])"
   ]
  },
  {
   "cell_type": "markdown",
   "metadata": {},
   "source": [
    "### Classify Objects using Retrained Model"
   ]
  },
  {
   "cell_type": "code",
   "execution_count": 7,
   "metadata": {},
   "outputs": [],
   "source": [
    "def classify_image(file_name):\n",
    "    label_image.main(file_name)"
   ]
  },
  {
   "cell_type": "markdown",
   "metadata": {},
   "source": [
    "<img src=\"dataset/uncc_photos/emergency_pole/IMG_20191105_101324.jpg\" width=\"400\">"
   ]
  },
  {
   "cell_type": "code",
   "execution_count": 8,
   "metadata": {},
   "outputs": [
    {
     "name": "stdout",
     "output_type": "stream",
     "text": [
      "\n",
      "Evaluation time (1-image): 0.281s\n",
      "\n",
      "emergency pole (score=0.99724)\n",
      "accessible route (score=0.00276)\n",
      "inside table (score=0.00000)\n"
     ]
    }
   ],
   "source": [
    "classify_image('dataset/uncc_photos/emergency_pole/IMG_20191105_101324.jpg')"
   ]
  },
  {
   "cell_type": "markdown",
   "metadata": {},
   "source": [
    "<img src=\"dataset/uncc_photos/accessible_route/IMG_20191105_103150.jpg\" width=\"400\">"
   ]
  },
  {
   "cell_type": "code",
   "execution_count": 9,
   "metadata": {},
   "outputs": [
    {
     "name": "stdout",
     "output_type": "stream",
     "text": [
      "\n",
      "Evaluation time (1-image): 0.266s\n",
      "\n",
      "accessible route (score=0.99999)\n",
      "emergency pole (score=0.00000)\n",
      "inside table (score=0.00000)\n"
     ]
    }
   ],
   "source": [
    "classify_image('dataset/uncc_photos/accessible_route/IMG_20191105_103150.jpg')"
   ]
  },
  {
   "cell_type": "markdown",
   "metadata": {},
   "source": [
    "<img src=\"dataset/uncc_photos/inside_table/IMG_20191105_103559.jpg\" width=\"400\">"
   ]
  },
  {
   "cell_type": "code",
   "execution_count": 10,
   "metadata": {},
   "outputs": [
    {
     "name": "stdout",
     "output_type": "stream",
     "text": [
      "\n",
      "Evaluation time (1-image): 0.266s\n",
      "\n",
      "inside table (score=1.00000)\n",
      "emergency pole (score=0.00000)\n",
      "accessible route (score=0.00000)\n"
     ]
    }
   ],
   "source": [
    "classify_image('dataset/uncc_photos/inside_table/IMG_20191105_103559.jpg')"
   ]
  },
  {
   "cell_type": "code",
   "execution_count": null,
   "metadata": {},
   "outputs": [],
   "source": []
  }
 ],
 "metadata": {
  "kernelspec": {
   "display_name": "Python 3",
   "language": "python",
   "name": "python3"
  },
  "language_info": {
   "codemirror_mode": {
    "name": "ipython",
    "version": 3
   },
   "file_extension": ".py",
   "mimetype": "text/x-python",
   "name": "python",
   "nbconvert_exporter": "python",
   "pygments_lexer": "ipython3",
   "version": "3.6.8"
  },
  "varInspector": {
   "cols": {
    "lenName": 16,
    "lenType": 16,
    "lenVar": 40
   },
   "kernels_config": {
    "python": {
     "delete_cmd_postfix": "",
     "delete_cmd_prefix": "del ",
     "library": "var_list.py",
     "varRefreshCmd": "print(var_dic_list())"
    },
    "r": {
     "delete_cmd_postfix": ") ",
     "delete_cmd_prefix": "rm(",
     "library": "var_list.r",
     "varRefreshCmd": "cat(var_dic_list()) "
    }
   },
   "types_to_exclude": [
    "module",
    "function",
    "builtin_function_or_method",
    "instance",
    "_Feature"
   ],
   "window_display": false
  }
 },
 "nbformat": 4,
 "nbformat_minor": 2
}
